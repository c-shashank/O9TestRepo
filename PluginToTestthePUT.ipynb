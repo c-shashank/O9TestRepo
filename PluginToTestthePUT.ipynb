{
 "cells": [
  {
   "cell_type": "code",
   "execution_count": null,
   "id": "61da928c-ec97-4964-ab18-95d3563b45d7",
   "metadata": {
    "editable": false
   },
   "outputs": [],
   "source": [
    "# This cell is NOT editable. Overwrite variables on your own discretion.\n",
    "# Any changes other than the script code will NOT BE SAVED!\n",
    "# All cells are assumed to be script code cells, unless explictly tagged as 'o9_ignore'"
   ]
  },
  {
   "cell_type": "code",
   "execution_count": 1,
   "id": "664e4266-b818-4579-b62b-978563ba9a93",
   "metadata": {},
   "outputs": [],
   "source": [
    "# Slice Dimension Attributes defined in the plugin. Please check all queries and replace <KEY HERE> with a valid name.\n",
    "# For example: If slice is defined by Version.[Version Name] and Time.[Month]\n",
    "# input_df = ibpl Select ([Version].[Version Name].[<KEY HERE>] * [Time].[Month].[<KEY HERE>] * [Item].[Item Number]) on row, ({Measure.[M1], Measure.[M2]}) on column limit 5000;\n",
    "#                             update <KEY HERE> to valid names\n",
    "# input_df = ibpl Select ([Version].[Version Name].[CurrentWorkingView] * [Time].[Month].[January] * [Item].[Item Number]) on row, ({Measure.[M1], Measure.[M2]}) on column limit 5000;\n",
    "\n",
    "_DPBaseInputs = \"Select ([M5_Store].[store_id].[CA_1] * [M5_Item].[item_id].[HOBBIES_1_001] * [M5_Calendar].[Date] * [Version].[Version Name].[<KEY HERE>] ) on row, ({Measure.[Sales], Measure.[SellPriceAtDate], Measure.[TestSales]}) on column;\"\n",
    "_sales_df = \"select ([M5_Store].[store_id].[CA_1] * [M5_Item].[item_id].[HOBBIES_1_001] * [M5_Calendar].[Date] * [Version].[Version Name].[<KEY HERE>] ) on row, ({Measure.[Sales], Measure.[SellPriceAtDate], Measure.[TestSales]}) on column;\"\n",
    "\n",
    "\n",
    "# Initialize the O9DataLake with the input parameters and dataframes\n",
    "# Data can be accessed with O9DataLake.get(<Input Name>)\n",
    "# Overwritten values will not be reflected in the O9DataLake after initialization\n",
    "\n",
    "from o9_common_utils.O9DataLake import O9DataLake, ResourceType, DataSource\n",
    "O9DataLake.register(\"DPBaseInputs\",DataSource.LS, ResourceType.IBPL, _DPBaseInputs)\n",
    "O9DataLake.register(\"sales_df\",DataSource.LS, ResourceType.IBPL, _sales_df)"
   ]
  },
  {
   "cell_type": "code",
   "execution_count": null,
   "id": "1c930fc2-c4ae-4c81-bb3a-3ef1d72f4be6",
   "metadata": {},
   "outputs": [],
   "source": [
    "\n",
    "from o9_common_utils.O9DataLake import O9DataLake, ResourceType, DataSource\n",
    "query1 = \"select ([M5_Store].[store_id].[CA_1] * [M5_Item].[item_id].[HOBBIES_1_001] * [M5_Calendar].[Date] * [Version].[Version Name] ) on row, ({Measure.[Sales], Measure.[SellPriceAtDate], Measure.[TestSales]}) on column;\"\n",
    "query2 = \"Select ([M5_Store].[store_id].[CA_1] * [M5_Item].[item_id].[HOBBIES_1_001] * [M5_Calendar].[Date] * [Version].[Version Name] ) on row, ({Measure.[Sales], Measure.[SellPriceAtDate], Measure.[TestSales]}) on column;\"\n",
    "O9DataLake.register(\"sales_df\",DataSource.LS, ResourceType.IBPL, query1) \n",
    "O9DataLake.register(\"DPBaseInputs\",DataSource.LS, ResourceType.IBPL, query2)\n",
    "\n",
    "TSales = O9DataLake.get('sales_df')\n",
    "dpbaseinputs = O9DataLake.get('DPBaseInputs')\n",
    "\n",
    "\n",
    "#User Script\n",
    "import logging\n",
    "TestSales = None\n",
    "logger = logging.getLogger('o9_logger')\n",
    "logger.info(f'Records count in sales dataframe : {TSales.shape}')\n",
    "logger.info(f'Records count in DPBaseInputs dataframe : {dpbaseinputs.shape}')\n",
    "logger.error(\"Hello error1\")\n",
    "logger.error(\"Hello error2\")\n",
    "logger.error(\"Hello error3\")\n",
    "TSales['TestSales']=1\n",
    "#pushing output to the DataLake\n",
    "O9DataLake.put('TestSales',TSales)"
   ]
  }
 ],
 "metadata": {
  "kernelspec": {
   "display_name": "[pyplatformhivetest] Tenant Conda Environment",
   "language": "python",
   "name": "genieaz_pyplatformhivetest"
  },
  "language_info": {
   "codemirror_mode": {
    "name": "ipython",
    "version": 3
   },
   "file_extension": ".py",
   "mimetype": "text/x-python",
   "name": "python",
   "nbconvert_exporter": "python",
   "pygments_lexer": "ipython3",
   "version": "3.7.10"
  },
  "notebook_dict": {
   "ClassName": "o9.GraphCube.Plugins.Python.PythonScript",
   "InstanceName": "PluginToTestthePUT",
   "SliceKeys": [
    {
     "AttributeName": "Version Name",
     "DimensionName": "Version"
    }
   ],
   "file_path": "loaded_notebooks/PluginToTestthePUT.ipynb",
   "o9_selected_plugin_id": 205795
  }
 },
 "nbformat": 4,
 "nbformat_minor": 5
}
