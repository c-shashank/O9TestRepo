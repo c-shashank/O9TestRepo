{
 "cells": [
  {
   "cell_type": "code",
   "execution_count": null,
   "id": "de4d7152-0481-48a2-a807-7911a443198f",
   "metadata": {
    "editable": false
   },
   "outputs": [],
   "source": [
    "# This cell is NOT editable. Overwrite variables on your own discretion.\n",
    "# Any changes other than the script code will NOT BE SAVED!\n",
    "# All cells are assumed to be script code cells, unless explictly tagged as 'o9_ignore'"
   ]
  },
  {
   "cell_type": "code",
   "execution_count": 1,
   "id": "93acfd48-f1c1-44ee-9e33-8022da3ea6f9",
   "metadata": {},
   "outputs": [],
   "source": [
    "input_df = None  # CAN'T BE INITIALIZED. HIVE MEASUREGROUP NOT SUPPORTED YET\n",
    "#_productCsvDim = \"Select ([Product].[Product]*[Product].[ProductAttribute1]*[Product].[ProductAttribute10]*[Product].[ProductAttribute11]*[Product].[ProductAttribute12]*[Product].[ProductAttribute13]*[Product].[ProductAttribute2]*[Product].[ProductAttribute3]*[Product].[ProductAttribute4]*[Product].[ProductAttribute5]*[Product].[ProductAttribute6]*[Product].[ProductAttribute7]*[Product].[ProductAttribute8]*[Product].[ProductAttribute9]*[Product].[ProductGroup1]*[Product].[ProductGroup2]*[Product].[ProductGroup3]*[Product].[ProductGroup4]*[Product].[ProductGroup5]*[Product].[ProductGroup6]);\"\n",
    "_predict_df = \"select (Version.[Version Name]*Product.[Product]*Time.FiscalWeek*SalesAccount.[Account]*Location.[Location]*{Measure.[DPSellOutUnitsActuals],Measure.[Mean Pricing Save PCT],Measure.[Placement Count],Measure.[Promotion Count],Measure.[DPSellOutPrice]});\"\n",
    "\n",
    "\n",
    "# Initialize the O9DataLake with the input parameters and dataframes\n",
    "# Data can be accessed with O9DataLake.get(<Input Name>)\n",
    "# Overwritten values will not be reflected in the O9DataLake after initialization\n",
    "\n",
    "from o9_common_utils.O9DataLake import O9DataLake, ResourceType, DataSource\n",
    "#O9DataLake.register(\"productCsvDim\",DataSource.LS, ResourceType.IBPL, _productCsvDim)\n",
    "O9DataLake.register(\"predict_df\",DataSource.LS, ResourceType.IBPL, _predict_df)"
   ]
  },
  {
   "cell_type": "code",
   "execution_count": 2,
   "id": "b3495765-562b-4ccc-ab26-5d67253e56db",
   "metadata": {},
   "outputs": [
    {
     "name": "stdout",
     "output_type": "stream",
     "text": [
      "2022-10-20 14:10:09,189 : shashankchavan_5502 :IbplClient: WebApi Request Url = [https://mygenieazure.o9solutions.com/api/ibplquery/5502/ExecuteCompactJsonQuery]\n",
      "2022-10-20 14:10:15,366 : shashankchavan_5502 :IbplClient: WebApi Request Url = [https://mygenieazure.o9solutions.com/api/ibplquery/5502/ExecuteCompactJsonQuery]\n",
      "2022-10-20 14:10:20,676 : shashankchavan_5502 :input_df -->     Version.[Version Name] Product.[Product] Time.[FiscalWeek]  \\\n",
      "0       CurrentWorkingView            196426          W03-2016   \n",
      "1       CurrentWorkingView            196426          W05-2016   \n",
      "2       CurrentWorkingView            196426          W08-2016   \n",
      "3       CurrentWorkingView            196426          W13-2016   \n",
      "4       CurrentWorkingView            196426          W48-2016   \n",
      "..                     ...               ...               ...   \n",
      "162     CurrentWorkingView            208821          W48-2018   \n",
      "163     CurrentWorkingView            208821          W49-2018   \n",
      "164     CurrentWorkingView            208821          W50-2018   \n",
      "165     CurrentWorkingView            208821          W51-2018   \n",
      "166     CurrentWorkingView            208821          W52-2018   \n",
      "\n",
      "    SalesAccount.[Account] Location.[Location]  DPSellOutUnitsActuals  \\\n",
      "0                      ALL                 ALL                    1.0   \n",
      "1                      ALL                 ALL                    2.0   \n",
      "2                      ALL                 ALL                    1.0   \n",
      "3                      ALL                 ALL                    1.0   \n",
      "4                      ALL                 ALL                    1.0   \n",
      "..                     ...                 ...                    ...   \n",
      "162                    ALL                 ALL                    NaN   \n",
      "163                    ALL                 ALL                    NaN   \n",
      "164                    ALL                 ALL                    NaN   \n",
      "165                    ALL                 ALL                    NaN   \n",
      "166                    ALL                 ALL                    NaN   \n",
      "\n",
      "     Mean Pricing Save PCT  Placement Count  Promotion Count  DPSellOutPrice  \n",
      "0                      NaN              NaN              NaN             6.0  \n",
      "1                      NaN              NaN              NaN             9.5  \n",
      "2                      NaN              NaN              NaN             6.0  \n",
      "3                      NaN              NaN              NaN            13.0  \n",
      "4                      NaN              NaN              NaN            13.0  \n",
      "..                     ...              ...              ...             ...  \n",
      "162                    0.5              1.0              1.0             NaN  \n",
      "163                    NaN              1.0              NaN             NaN  \n",
      "164                    NaN              1.0              NaN             NaN  \n",
      "165                    NaN              1.0              NaN             NaN  \n",
      "166                    NaN              1.0              NaN             NaN  \n",
      "\n",
      "[167 rows x 10 columns]\n",
      "2022-10-20 14:10:20,687 : shashankchavan_5502 :out_df-->     Version.[Version Name] Product.[Product] Time.[FiscalWeek]  \\\n",
      "0       CurrentWorkingView            196426          W03-2016   \n",
      "1       CurrentWorkingView            196426          W05-2016   \n",
      "2       CurrentWorkingView            196426          W08-2016   \n",
      "3       CurrentWorkingView            196426          W13-2016   \n",
      "4       CurrentWorkingView            196426          W48-2016   \n",
      "..                     ...               ...               ...   \n",
      "162     CurrentWorkingView            208821          W48-2018   \n",
      "163     CurrentWorkingView            208821          W49-2018   \n",
      "164     CurrentWorkingView            208821          W50-2018   \n",
      "165     CurrentWorkingView            208821          W51-2018   \n",
      "166     CurrentWorkingView            208821          W52-2018   \n",
      "\n",
      "    SalesAccount.[Account] Location.[Location]  DPSellOutUnitsActuals  \\\n",
      "0                      ALL                 ALL                    1.0   \n",
      "1                      ALL                 ALL                    2.0   \n",
      "2                      ALL                 ALL                    1.0   \n",
      "3                      ALL                 ALL                    1.0   \n",
      "4                      ALL                 ALL                    1.0   \n",
      "..                     ...                 ...                    ...   \n",
      "162                    ALL                 ALL                    NaN   \n",
      "163                    ALL                 ALL                    NaN   \n",
      "164                    ALL                 ALL                    NaN   \n",
      "165                    ALL                 ALL                    NaN   \n",
      "166                    ALL                 ALL                    NaN   \n",
      "\n",
      "     Mean Pricing Save PCT  Placement Count  Promotion Count  DPSellOutPrice  \n",
      "0                      NaN              NaN              NaN             6.0  \n",
      "1                      NaN              NaN              NaN             9.5  \n",
      "2                      NaN              NaN              NaN             6.0  \n",
      "3                      NaN              NaN              NaN            13.0  \n",
      "4                      NaN              NaN              NaN            13.0  \n",
      "..                     ...              ...              ...             ...  \n",
      "162                    0.5              1.0              1.0             NaN  \n",
      "163                    NaN              1.0              NaN             NaN  \n",
      "164                    NaN              1.0              NaN             NaN  \n",
      "165                    NaN              1.0              NaN             NaN  \n",
      "166                    NaN              1.0              NaN             NaN  \n",
      "\n",
      "[167 rows x 10 columns]\n"
     ]
    }
   ],
   "source": [
    "\"\"\"\n",
    "Command : exec plugin instance [HiveMGIP1_CsvDimIP2_HiveMGIP3_CsvDimPrimDF_HiveOP1_Slice] for measures {[DPSellOutUnitsActuals]} using scope ([Product].[Product].Filter(#.Name in {[196426],[208821]}) * [Time].[Day] * [Version].[Version Name].[CurrentWorkingView]);\n",
    "\n",
    "\"\"\"\n",
    "output=O9DataLake.get('predict_df')\n",
    "out_df = None\n",
    "logger = logging.getLogger('o9_logger')\n",
    "logger.info(\"input_df --> {}\".format(output))\n",
    "\n",
    "\n",
    "out_df = output\n",
    "logger.info(\"out_df--> {}\".format(out_df))"
   ]
  },
  {
   "cell_type": "code",
   "execution_count": 4,
   "id": "45ae74e7-4a6c-47d3-adf9-635173dd5a81",
   "metadata": {},
   "outputs": [],
   "source": [
    "out_df.to_csv('Check.csv')"
   ]
  },
  {
   "cell_type": "code",
   "execution_count": null,
   "id": "83c80eb5-6a61-4e9b-8549-b3c03bb4e061",
   "metadata": {},
   "outputs": [],
   "source": []
  }
 ],
 "metadata": {
  "kernelspec": {
   "display_name": "[pyplatformhivetest] Tenant Conda Environment",
   "language": "python",
   "name": "genieaz_pyplatformhivetest"
  },
  "language_info": {
   "codemirror_mode": {
    "name": "ipython",
    "version": 3
   },
   "file_extension": ".py",
   "mimetype": "text/x-python",
   "name": "python",
   "nbconvert_exporter": "python",
   "pygments_lexer": "ipython3",
   "version": "3.7.10"
  },
  "notebook_dict": {
   "ClassName": "o9.GraphCube.Plugins.Python.PythonScript",
   "InstanceName": "HiveMGIP1_CsvDimIP2_HiveMGIP3_CsvDimPrimDF_HiveOP1_NoSlice",
   "SliceKeys": [],
   "file_path": "loaded_notebooks/HiveMGIP1_CsvDimIP2_HiveMGIP3_CsvDimPrimDF_HiveOP1_NoSlice.ipynb",
   "o9_selected_plugin_id": 202689
  }
 },
 "nbformat": 4,
 "nbformat_minor": 5
}
