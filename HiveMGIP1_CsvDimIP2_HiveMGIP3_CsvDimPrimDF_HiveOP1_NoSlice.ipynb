{
 "cells": [
  {
   "cell_type": "code",
   "execution_count": null,
   "id": "de4d7152-0481-48a2-a807-7911a443198f",
   "metadata": {
    "editable": false
   },
   "outputs": [],
   "source": [
    "# This cell is NOT editable. Overwrite variables on your own discretion.\n",
    "# Any changes other than the script code will NOT BE SAVED!\n",
    "# All cells are assumed to be script code cells, unless explictly tagged as 'o9_ignore'"
   ]
  },
  {
   "cell_type": "code",
   "execution_count": 1,
   "id": "93acfd48-f1c1-44ee-9e33-8022da3ea6f9",
   "metadata": {},
   "outputs": [],
   "source": [
    "input_df = None  # CAN'T BE INITIALIZED. HIVE MEASUREGROUP NOT SUPPORTED YET\n",
    "#_productCsvDim = \"Select ([Product].[Product]*[Product].[ProductAttribute1]*[Product].[ProductAttribute10]*[Product].[ProductAttribute11]*[Product].[ProductAttribute12]*[Product].[ProductAttribute13]*[Product].[ProductAttribute2]*[Product].[ProductAttribute3]*[Product].[ProductAttribute4]*[Product].[ProductAttribute5]*[Product].[ProductAttribute6]*[Product].[ProductAttribute7]*[Product].[ProductAttribute8]*[Product].[ProductAttribute9]*[Product].[ProductGroup1]*[Product].[ProductGroup2]*[Product].[ProductGroup3]*[Product].[ProductGroup4]*[Product].[ProductGroup5]*[Product].[ProductGroup6]);\"\n",
    "_predict_df = \"select (Version.[Version Name]*Product.[Product]*Time.FiscalWeek*SalesAccount.[Account]*Location.[Location]*{Measure.[DPSellOutUnitsActuals],Measure.[Mean Pricing Save PCT],Measure.[Placement Count],Measure.[Promotion Count],Measure.[DPSellOutPrice]});\"\n",
    "\n",
    "\n",
    "# Initialize the O9DataLake with the input parameters and dataframes\n",
    "# Data can be accessed with O9DataLake.get(<Input Name>)\n",
    "# Overwritten values will not be reflected in the O9DataLake after initialization\n",
    "\n",
    "from o9_common_utils.O9DataLake import O9DataLake, ResourceType, DataSource\n",
    "#O9DataLake.register(\"productCsvDim\",DataSource.LS, ResourceType.IBPL, _productCsvDim)\n",
    "O9DataLake.register(\"predict_df\",DataSource.LS, ResourceType.IBPL, _predict_df)"
   ]
  },
  {
   "cell_type": "code",
   "execution_count": null,
   "id": "b3495765-562b-4ccc-ab26-5d67253e56db",
   "metadata": {},
   "outputs": [],
   "source": [
    "\"\"\"\n",
    "Command : exec plugin instance [HiveMGIP1_CsvDimIP2_HiveMGIP3_CsvDimPrimDF_HiveOP1_Slice] for measures {[DPSellOutUnitsActuals]} using scope ([Product].[Product].Filter(#.Name in {[196426],[208821]}) * [Time].[Day] * [Version].[Version Name].[CurrentWorkingView]);\n",
    "\n",
    "\"\"\"\n",
    "output=O9DataLake.get('predict_df')\n",
    "out_df = None\n",
    "logger = logging.getLogger('o9_logger')\n",
    "logger.info(\"input_df --> {}\".format(input_df))\n",
    "\n",
    "\n",
    "out_df = input_df\n",
    "logger.info(\"out_df--> {}\".format(out_df))"
   ]
  }
 ],
 "metadata": {
  "kernelspec": {
   "display_name": "[pyplatformhivetest] Tenant Conda Environment",
   "language": "python",
   "name": "genieaz_pyplatformhivetest"
  },
  "language_info": {
   "codemirror_mode": {
    "name": "ipython",
    "version": 3
   },
   "file_extension": ".py",
   "mimetype": "text/x-python",
   "name": "python",
   "nbconvert_exporter": "python",
   "pygments_lexer": "ipython3",
   "version": "3.7.10"
  },
  "notebook_dict": {
   "ClassName": "o9.GraphCube.Plugins.Python.PythonScript",
   "InstanceName": "HiveMGIP1_CsvDimIP2_HiveMGIP3_CsvDimPrimDF_HiveOP1_NoSlice",
   "SliceKeys": [],
   "file_path": "loaded_notebooks/HiveMGIP1_CsvDimIP2_HiveMGIP3_CsvDimPrimDF_HiveOP1_NoSlice.ipynb",
   "o9_selected_plugin_id": 202689
  }
 },
 "nbformat": 4,
 "nbformat_minor": 5
}
